{
 "cells": [
  {
   "cell_type": "markdown",
   "id": "6bd2f86e",
   "metadata": {},
   "source": [
    "## Author: DeAndre Thomas\n",
    "## Professor: Dr. Debbie Landowski\n",
    "## Course: IST652 - Scripting for Data Analysis\n",
    "## Date: 04/29/2022\n",
    "## Purpose: Lab 2"
   ]
  },
  {
   "cell_type": "code",
   "execution_count": 2,
   "id": "abef1646",
   "metadata": {},
   "outputs": [],
   "source": [
    "stock = {\"banana\": 6, \"apple\": 0, \"orange\": 32, \"pear\": 15}\n",
    "prices = {\"banana\": 4, \"apple\": 2, \"orange\": 1.5, \"pear\": 3}"
   ]
  },
  {
   "cell_type": "markdown",
   "id": "89f5a3f4",
   "metadata": {},
   "source": [
    "#### a. Show the expression that gets the value of the stock dictionary at the key ‘orange’. Show a statement that adds an item to the stock dictionary called ‘cherry’ with some integer value and that adds ‘cherry’ to the prices dictionary with a numeric value. (Or pick your own fruit name.)"
   ]
  },
  {
   "cell_type": "code",
   "execution_count": 3,
   "id": "4cfa7ebc",
   "metadata": {},
   "outputs": [
    {
     "data": {
      "text/plain": [
       "32"
      ]
     },
     "execution_count": 3,
     "metadata": {},
     "output_type": "execute_result"
    }
   ],
   "source": [
    "stock[\"orange\"]"
   ]
  },
  {
   "cell_type": "code",
   "execution_count": 4,
   "id": "310a9bc7",
   "metadata": {},
   "outputs": [
    {
     "name": "stdout",
     "output_type": "stream",
     "text": [
      "{'banana': 6, 'apple': 0, 'orange': 32, 'pear': 15, 'cherry': 14}\n"
     ]
    }
   ],
   "source": [
    "# Add cherry to the stock and prices dictionaries\n",
    "\n",
    "stock['cherry'] = 14\n",
    "print(stock)"
   ]
  },
  {
   "cell_type": "markdown",
   "id": "bce1c8d3",
   "metadata": {},
   "source": [
    "##### b. Write the code for a loop that iterates over the stock dictionary and prints each key and value."
   ]
  },
  {
   "cell_type": "code",
   "execution_count": 5,
   "id": "5bf80bf9",
   "metadata": {},
   "outputs": [
    {
     "name": "stdout",
     "output_type": "stream",
     "text": [
      "banana 6\n",
      "apple 0\n",
      "orange 32\n",
      "pear 15\n",
      "cherry 14\n"
     ]
    }
   ],
   "source": [
    "for key, value in stock.items():\n",
    "    print(key, value)"
   ]
  },
  {
   "cell_type": "markdown",
   "id": "76b9d8d9",
   "metadata": {},
   "source": [
    "##### c. Suppose that we have a list:\n",
    "##### groceries = [‘apple’, ‘banana’, ‘pear’]\n",
    "##### Write the code that will sum the total number in stock of the items in the groceries list."
   ]
  },
  {
   "cell_type": "code",
   "execution_count": 8,
   "id": "f50685e2",
   "metadata": {},
   "outputs": [],
   "source": [
    "groceries = ['apple', 'banana', 'pear']"
   ]
  },
  {
   "cell_type": "code",
   "execution_count": 15,
   "id": "1332e5a7",
   "metadata": {},
   "outputs": [
    {
     "name": "stdout",
     "output_type": "stream",
     "text": [
      "The total number of stock items in the grocery list is:  21\n"
     ]
    }
   ],
   "source": [
    "totalStock = 0\n",
    "for items in groceries:\n",
    "    totalStock = totalStock + stock[items]\n",
    "print(\"The total number of stock items in the grocery list is: \", totalStock)"
   ]
  },
  {
   "cell_type": "markdown",
   "id": "70c8632b",
   "metadata": {},
   "source": [
    "######  d. Write the code that can print out the total value in stock of all the items. This program can iterate over the stock dictionary and for each item multiply the number in stock times the price of that item in the prices dictionary. (This can include the items for ‘cherry’ or not, as you choose.)"
   ]
  },
  {
   "cell_type": "code",
   "execution_count": 17,
   "id": "66e2ad7c",
   "metadata": {},
   "outputs": [
    {
     "name": "stdout",
     "output_type": "stream",
     "text": [
      "The total value of items in the grocery list is:  69\n"
     ]
    }
   ],
   "source": [
    "totalValue = 0\n",
    "for items in groceries:\n",
    "    totalValue = totalValue + prices[items]*stock[items]\n",
    "print(\"The total value of items in the grocery list is: \", totalValue)"
   ]
  }
 ],
 "metadata": {
  "kernelspec": {
   "display_name": "Python 3 (ipykernel)",
   "language": "python",
   "name": "python3"
  },
  "language_info": {
   "codemirror_mode": {
    "name": "ipython",
    "version": 3
   },
   "file_extension": ".py",
   "mimetype": "text/x-python",
   "name": "python",
   "nbconvert_exporter": "python",
   "pygments_lexer": "ipython3",
   "version": "3.9.7"
  }
 },
 "nbformat": 4,
 "nbformat_minor": 5
}
