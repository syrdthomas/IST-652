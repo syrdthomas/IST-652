{
 "cells": [
  {
   "cell_type": "markdown",
   "id": "e0af4054",
   "metadata": {},
   "source": [
    "### Author: DeAndre Thomas\n",
    "### Professor: Dr. Debbie Landowski\n",
    "### Course: IST 652\n",
    "### Assignment: Homework 1\n",
    "### Date: 05/20/2022"
   ]
  },
  {
   "cell_type": "markdown",
   "id": "fb248ef3",
   "metadata": {},
   "source": [
    "### Problem 1:\n",
    "##### Write a Python function to multiply all the numbers in a list.\n",
    "##### Sample List : (8, 2, 3, -1, 7)\n",
    "##### Expected Output : -336\n",
    "##### Execute the function with at least 3 different lists of numbers"
   ]
  },
  {
   "cell_type": "code",
   "execution_count": 1,
   "id": "6649c9a3",
   "metadata": {},
   "outputs": [],
   "source": [
    "# Creating 3 list along with sample list\n",
    "list1 = [8, 2, 3, -1, 7]\n",
    "list2 = [2, 4, 6, 8, 10]\n",
    "list3 = [2, 4, 3, 9, 4]\n",
    "list4 = [10, 9, 8, 7, -6]"
   ]
  },
  {
   "cell_type": "code",
   "execution_count": 2,
   "id": "8163abbf",
   "metadata": {},
   "outputs": [],
   "source": [
    "# Creating function to multiply all numbers in a list\n",
    "def multiply(numbers):\n",
    "        total = 1\n",
    "    for x in numbers:\n",
    "        total = total * x\n",
    "    return total"
   ]
  },
  {
   "cell_type": "code",
   "execution_count": 3,
   "id": "c08fcede",
   "metadata": {},
   "outputs": [
    {
     "data": {
      "text/plain": [
       "-336"
      ]
     },
     "execution_count": 3,
     "metadata": {},
     "output_type": "execute_result"
    }
   ],
   "source": [
    "multiply(list1)"
   ]
  },
  {
   "cell_type": "code",
   "execution_count": 4,
   "id": "d612edb2",
   "metadata": {},
   "outputs": [
    {
     "data": {
      "text/plain": [
       "3840"
      ]
     },
     "execution_count": 4,
     "metadata": {},
     "output_type": "execute_result"
    }
   ],
   "source": [
    "multiply(list2)"
   ]
  },
  {
   "cell_type": "code",
   "execution_count": 5,
   "id": "a80dc9b1",
   "metadata": {},
   "outputs": [
    {
     "data": {
      "text/plain": [
       "864"
      ]
     },
     "execution_count": 5,
     "metadata": {},
     "output_type": "execute_result"
    }
   ],
   "source": [
    "multiply(list3)"
   ]
  },
  {
   "cell_type": "code",
   "execution_count": 6,
   "id": "df15ae3e",
   "metadata": {
    "scrolled": true
   },
   "outputs": [
    {
     "data": {
      "text/plain": [
       "-30240"
      ]
     },
     "execution_count": 6,
     "metadata": {},
     "output_type": "execute_result"
    }
   ],
   "source": [
    "multiply(list4)"
   ]
  },
  {
   "cell_type": "markdown",
   "id": "652f7acb",
   "metadata": {},
   "source": [
    "### Problem 2:\n",
    "###### Write a Python function that accepts a string and calculate the number of upper case letters and lower case letters.\n",
    "###### Sample String : 'The quick Brown Fox’\n",
    "###### Execute the function with at least 2 different phrases."
   ]
  },
  {
   "cell_type": "code",
   "execution_count": 33,
   "id": "cc982ef2",
   "metadata": {},
   "outputs": [],
   "source": [
    "string1 = ('The quick Brown Fox')\n",
    "string2 = ('Im a Dental Hygienist')\n",
    "string3 = ('Its Almost SUMMER TiMe')"
   ]
  },
  {
   "cell_type": "code",
   "execution_count": 31,
   "id": "4d1b8bd2",
   "metadata": {},
   "outputs": [],
   "source": [
    "# Creating function that accepts a string and calculates the \n",
    "#  number of upper case letters and lower case letters. \n",
    "def ulcount(string):\n",
    "    upper_c = 0\n",
    "    lower_c = 0\n",
    "    for i in string:\n",
    "        if i.isupper():\n",
    "            upper_c = upper_c + 1\n",
    "        elif i.islower():\n",
    "            lower_c = lower_c + 1\n",
    "        else:\n",
    "            pass\n",
    "    print('String: ', string)\n",
    "    print('Number of Upper Case Letters: ', upper_c)\n",
    "    print('Number of Lower Case Letters: ', lower_c)"
   ]
  },
  {
   "cell_type": "code",
   "execution_count": 34,
   "id": "f3a9aabb",
   "metadata": {},
   "outputs": [
    {
     "name": "stdout",
     "output_type": "stream",
     "text": [
      "String:  The quick Brown Fox\n",
      "Number of Upper Case Letters:  3\n",
      "Number of Lower Case Letters:  13\n",
      "String:  Im a Dental Hygienist\n",
      "Number of Upper Case Letters:  3\n",
      "Number of Lower Case Letters:  15\n",
      "String:  Its Almost SUMMER TiMe\n",
      "Number of Upper Case Letters:  10\n",
      "Number of Lower Case Letters:  9\n"
     ]
    }
   ],
   "source": [
    "ulcount(string1)\n",
    "ulcount(string2)\n",
    "ulcount(string3)"
   ]
  }
 ],
 "metadata": {
  "kernelspec": {
   "display_name": "Python 3 (ipykernel)",
   "language": "python",
   "name": "python3"
  },
  "language_info": {
   "codemirror_mode": {
    "name": "ipython",
    "version": 3
   },
   "file_extension": ".py",
   "mimetype": "text/x-python",
   "name": "python",
   "nbconvert_exporter": "python",
   "pygments_lexer": "ipython3",
   "version": "3.9.7"
  }
 },
 "nbformat": 4,
 "nbformat_minor": 5
}
